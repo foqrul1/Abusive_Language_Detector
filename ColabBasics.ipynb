{
  "nbformat": 4,
  "nbformat_minor": 0,
  "metadata": {
    "colab": {
      "name": "ColabBasics.ipynb",
      "provenance": [],
      "private_outputs": true,
      "authorship_tag": "ABX9TyNMopDKxLj5WByaEdkejWd3",
      "include_colab_link": true
    },
    "kernelspec": {
      "name": "python3",
      "display_name": "Python 3"
    },
    "accelerator": "GPU"
  },
  "cells": [
    {
      "cell_type": "markdown",
      "metadata": {
        "id": "view-in-github",
        "colab_type": "text"
      },
      "source": [
        "<a href=\"https://colab.research.google.com/github/foqrul1/Abusive_Language_Detector/blob/master/ColabBasics.ipynb\" target=\"_parent\"><img src=\"https://colab.research.google.com/assets/colab-badge.svg\" alt=\"Open In Colab\"/></a>"
      ]
    },
    {
      "cell_type": "markdown",
      "metadata": {
        "id": "F0W0GGJJDbIF",
        "colab_type": "text"
      },
      "source": [
        "This is text part in Colab"
      ]
    },
    {
      "cell_type": "code",
      "metadata": {
        "id": "h9OK2jROAOfj",
        "colab_type": "code",
        "colab": {}
      },
      "source": [
        "print(\"Hello Machine Learning\")\n",
        "\n",
        "import tensorflow as tf\n",
        "from tensorflow import keras\n",
        "\n",
        "tf.version.VERSION\n",
        "\n"
      ],
      "execution_count": 0,
      "outputs": []
    },
    {
      "cell_type": "code",
      "metadata": {
        "id": "lE_XRtFkE17i",
        "colab_type": "code",
        "colab": {}
      },
      "source": [
        "x = 10\n",
        "if(x<9):\n",
        "  print(\"Greater\")\n",
        "else:\n",
        "  print(\"Less\")"
      ],
      "execution_count": 0,
      "outputs": []
    },
    {
      "cell_type": "code",
      "metadata": {
        "id": "K_d1N_pqGKUQ",
        "colab_type": "code",
        "colab": {}
      },
      "source": [
        "def  check_file(x):\n",
        "  if(x<9):\n",
        "    print(\"Greater\")\n",
        "  else:\n",
        "    print(\"Less\")"
      ],
      "execution_count": 0,
      "outputs": []
    },
    {
      "cell_type": "code",
      "metadata": {
        "id": "igY1N2ZvGS8K",
        "colab_type": "code",
        "colab": {}
      },
      "source": [
        "check_file(6)"
      ],
      "execution_count": 0,
      "outputs": []
    },
    {
      "cell_type": "code",
      "metadata": {
        "id": "92uh_Ba0JiYn",
        "colab_type": "code",
        "colab": {}
      },
      "source": [
        "!pip install tensorflow==2.1.0"
      ],
      "execution_count": 0,
      "outputs": []
    },
    {
      "cell_type": "code",
      "metadata": {
        "id": "8rUtjoAXLNWl",
        "colab_type": "code",
        "colab": {}
      },
      "source": [
        "import tensorflow as tf\n",
        "tf.version.VERSION"
      ],
      "execution_count": 0,
      "outputs": []
    },
    {
      "cell_type": "markdown",
      "metadata": {
        "id": "ij_aVGjjL_rB",
        "colab_type": "text"
      },
      "source": [
        "import numpy as np"
      ]
    },
    {
      "cell_type": "code",
      "metadata": {
        "id": "X2-dHrqpMLcK",
        "colab_type": "code",
        "colab": {}
      },
      "source": [
        "my_list = {0,1,2,3,4,5,6,7,8,9}\n",
        "my_array = np.array(my_list)\n",
        "print(my_array)"
      ],
      "execution_count": 0,
      "outputs": []
    },
    {
      "cell_type": "code",
      "metadata": {
        "id": "GOuSAMpRMswB",
        "colab_type": "code",
        "colab": {}
      },
      "source": [
        "np.argsort(my_array)"
      ],
      "execution_count": 0,
      "outputs": []
    },
    {
      "cell_type": "code",
      "metadata": {
        "id": "Q9_Zin2qNkYi",
        "colab_type": "code",
        "colab": {}
      },
      "source": [
        "np.argmax(my_array)"
      ],
      "execution_count": 0,
      "outputs": []
    },
    {
      "cell_type": "code",
      "metadata": {
        "id": "MvrnJ7GmNyr1",
        "colab_type": "code",
        "colab": {}
      },
      "source": [
        "print(my_array)"
      ],
      "execution_count": 0,
      "outputs": []
    },
    {
      "cell_type": "code",
      "metadata": {
        "id": "AvJvCLg7OGKh",
        "colab_type": "code",
        "colab": {}
      },
      "source": [
        "type(my_array)"
      ],
      "execution_count": 0,
      "outputs": []
    },
    {
      "cell_type": "code",
      "metadata": {
        "id": "pXXjuSyTOeOh",
        "colab_type": "code",
        "colab": {}
      },
      "source": [
        "type(my_list)"
      ],
      "execution_count": 0,
      "outputs": []
    },
    {
      "cell_type": "code",
      "metadata": {
        "id": "Zu1IU5WgO9uF",
        "colab_type": "code",
        "colab": {}
      },
      "source": [
        "mlist = [9,1,2,3,3,4,5,5]\n",
        "arrayList = np.array(mlist)"
      ],
      "execution_count": 0,
      "outputs": []
    },
    {
      "cell_type": "code",
      "metadata": {
        "id": "KdwWrs1uPOmz",
        "colab_type": "code",
        "colab": {}
      },
      "source": [
        "print(arrayList.shape)"
      ],
      "execution_count": 0,
      "outputs": []
    },
    {
      "cell_type": "code",
      "metadata": {
        "id": "vvS7eq9KQnuE",
        "colab_type": "code",
        "colab": {}
      },
      "source": [
        "print(arrayList)"
      ],
      "execution_count": 0,
      "outputs": []
    },
    {
      "cell_type": "code",
      "metadata": {
        "id": "Jor-kxBcRwPR",
        "colab_type": "code",
        "colab": {}
      },
      "source": [
        "np.append(arrayList, 0)\n"
      ],
      "execution_count": 0,
      "outputs": []
    },
    {
      "cell_type": "code",
      "metadata": {
        "id": "KmnFrvlUSRSr",
        "colab_type": "code",
        "colab": {}
      },
      "source": [
        "arrayList"
      ],
      "execution_count": 0,
      "outputs": []
    },
    {
      "cell_type": "code",
      "metadata": {
        "id": "LNhBMFGtSZyM",
        "colab_type": "code",
        "colab": {}
      },
      "source": [
        "test = [9,6,3,2,1,4,5,8]\n",
        "test1 = np.array(test)"
      ],
      "execution_count": 0,
      "outputs": []
    },
    {
      "cell_type": "code",
      "metadata": {
        "id": "W9FfUG57S3nH",
        "colab_type": "code",
        "colab": {}
      },
      "source": [
        "test1"
      ],
      "execution_count": 0,
      "outputs": []
    },
    {
      "cell_type": "code",
      "metadata": {
        "id": "gfoZCnfLW_bP",
        "colab_type": "code",
        "colab": {}
      },
      "source": [
        "test1[1:6]"
      ],
      "execution_count": 0,
      "outputs": []
    },
    {
      "cell_type": "code",
      "metadata": {
        "id": "TQTFi2msXGtl",
        "colab_type": "code",
        "colab": {}
      },
      "source": [
        "print(test1.shape)"
      ],
      "execution_count": 0,
      "outputs": []
    },
    {
      "cell_type": "code",
      "metadata": {
        "id": "thUt04rhXNdO",
        "colab_type": "code",
        "colab": {}
      },
      "source": [
        "reshapeArray = np.reshape(test1, (2,4))"
      ],
      "execution_count": 0,
      "outputs": []
    },
    {
      "cell_type": "code",
      "metadata": {
        "id": "jQcdSfzgXZGi",
        "colab_type": "code",
        "colab": {}
      },
      "source": [
        "reshapeArray"
      ],
      "execution_count": 0,
      "outputs": []
    },
    {
      "cell_type": "code",
      "metadata": {
        "id": "ChPs9bzsYqJP",
        "colab_type": "code",
        "colab": {}
      },
      "source": [
        "reshapeArray = np.reshape(test1, (4,2))"
      ],
      "execution_count": 0,
      "outputs": []
    },
    {
      "cell_type": "code",
      "metadata": {
        "id": "t_hJz-5LY05e",
        "colab_type": "code",
        "colab": {}
      },
      "source": [
        "reshapeArray"
      ],
      "execution_count": 0,
      "outputs": []
    },
    {
      "cell_type": "code",
      "metadata": {
        "id": "RLsSE_-MZxfb",
        "colab_type": "code",
        "colab": {}
      },
      "source": [
        "import numpy as np\n",
        "import matplotlib.pyplot as plt\n"
      ],
      "execution_count": 0,
      "outputs": []
    },
    {
      "cell_type": "code",
      "metadata": {
        "id": "HjMR_7NyZ8Nn",
        "colab_type": "code",
        "colab": {}
      },
      "source": [
        "x = np.linspace(0, 30, 11)"
      ],
      "execution_count": 0,
      "outputs": []
    },
    {
      "cell_type": "code",
      "metadata": {
        "id": "SF5urms3aOEa",
        "colab_type": "code",
        "colab": {}
      },
      "source": [
        "x"
      ],
      "execution_count": 0,
      "outputs": []
    },
    {
      "cell_type": "code",
      "metadata": {
        "id": "IUI2q_4cay0R",
        "colab_type": "code",
        "colab": {}
      },
      "source": [
        "y = x**2\n",
        "y"
      ],
      "execution_count": 0,
      "outputs": []
    },
    {
      "cell_type": "code",
      "metadata": {
        "id": "4k_QNM6TbEYy",
        "colab_type": "code",
        "colab": {}
      },
      "source": [
        "plt.title(\"x & y graph\")\n",
        "plt.xlabel(\"X label\")\n",
        "plt.ylabel(\"Y label\")\n",
        "plt.plot(x, y, 'gs')"
      ],
      "execution_count": 0,
      "outputs": []
    },
    {
      "cell_type": "code",
      "metadata": {
        "id": "ulQQsz8Hc8hP",
        "colab_type": "code",
        "colab": {}
      },
      "source": [
        "import matplotlib.image as npimg"
      ],
      "execution_count": 0,
      "outputs": []
    },
    {
      "cell_type": "code",
      "metadata": {
        "id": "MQo4MMP-dMan",
        "colab_type": "code",
        "colab": {}
      },
      "source": [
        "from google.colab import files\n",
        "uploaded = files.upload()"
      ],
      "execution_count": 0,
      "outputs": []
    },
    {
      "cell_type": "code",
      "metadata": {
        "id": "NaG2JEUUfknp",
        "colab_type": "code",
        "colab": {}
      },
      "source": [
        "!ls"
      ],
      "execution_count": 0,
      "outputs": []
    },
    {
      "cell_type": "code",
      "metadata": {
        "id": "d92cmWXxfpIa",
        "colab_type": "code",
        "colab": {}
      },
      "source": [
        "image = npimg.imread('afg.jpg')\n"
      ],
      "execution_count": 0,
      "outputs": []
    },
    {
      "cell_type": "code",
      "metadata": {
        "id": "zIhzHm0yf5jz",
        "colab_type": "code",
        "colab": {}
      },
      "source": [
        "plt.imshow(image)"
      ],
      "execution_count": 0,
      "outputs": []
    }
  ]
}